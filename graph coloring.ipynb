{
 "cells": [
  {
   "cell_type": "code",
   "execution_count": 1,
   "id": "9d0c3cd8",
   "metadata": {},
   "outputs": [
    {
     "name": "stdout",
     "output_type": "stream",
     "text": [
      "Color assigned to vertex 0 is BLUE\n",
      "Color assigned to vertex 1 is GREEN\n",
      "Color assigned to vertex 2 is BLUE\n",
      "Color assigned to vertex 3 is RED\n",
      "Color assigned to vertex 4 is RED\n",
      "Color assigned to vertex 5 is GREEN\n",
      "*-------------------------------------*\n",
      "Color assigned to Edge 0 is YELLOW\n",
      "Color assigned to Edge 1 is ORANGE\n",
      "Color assigned to Edge 2 is YELLOW\n",
      "Color assigned to Edge 3 is PINK\n",
      "Color assigned to Edge 4 is PINK\n",
      "Color assigned to Edge 5 is ORANGE\n",
      "*-------------------------------------*\n",
      "Color assigned to Face 0 is BLACK\n",
      "Color assigned to Face 1 is BROWN\n",
      "Color assigned to Face 2 is BLACK\n",
      "Color assigned to Face 3 is WHITE\n",
      "Color assigned to Face 4 is WHITE\n",
      "Color assigned to Face 5 is BROWN\n"
     ]
    }
   ],
   "source": [
    "class Graph:\n",
    "    def __init__(self, edges, N):\n",
    "        self.adj = [[] for _ in range(N)]\n",
    "        for (src, dest) in edges:\n",
    "            self.adj[src].append(dest)\n",
    "            self.adj[dest].append(src)\n",
    "\n",
    "def colorGraph(graph):\n",
    "    result = {}\n",
    "    for u in range(N):\n",
    "        assigned = set([result.get(i) for i in graph.adj[u] if i in result])\n",
    "        color = 1\n",
    "        for c in assigned:\n",
    "            if color != c:\n",
    "                break\n",
    "            color = color + 1\n",
    "        result[u] = color\n",
    "    for v in range(N):\n",
    "        print(\"Color assigned to vertex\", v, \"is\", colors[result[v]])\n",
    "    print(\"*-------------------------------------*\")\n",
    "\n",
    "    for v in range(N):\n",
    "        print(\"Color assigned to Edge\", v, \"is\", colors[result[v]+3])\n",
    "    print(\"*-------------------------------------*\")\n",
    "\n",
    "    for v in range(N):\n",
    "        print(\"Color assigned to Face\", v, \"is\", colors[result[v]+6])\n",
    "\n",
    "if __name__ == '__main__':\n",
    "    colors = [\"\", \"BLUE\", \"GREEN\", \"RED\", \"YELLOW\", \"ORANGE\", \"PINK\",\n",
    "    \"BLACK\", \"BROWN\", \"WHITE\", \"PURPLE\", \"VOILET\"]\n",
    "    edges = [(0, 1), (0, 4), (0, 5), (4, 5), (1, 4), (1, 3), (2, 3), (2, 4)]\n",
    "    N = 6\n",
    "    graph = Graph(edges, N)\n",
    "    colorGraph(graph)"
   ]
  },
  {
   "cell_type": "code",
   "execution_count": null,
   "id": "bf735b3f",
   "metadata": {},
   "outputs": [],
   "source": []
  }
 ],
 "metadata": {
  "kernelspec": {
   "display_name": "Python 3 (ipykernel)",
   "language": "python",
   "name": "python3"
  },
  "language_info": {
   "codemirror_mode": {
    "name": "ipython",
    "version": 3
   },
   "file_extension": ".py",
   "mimetype": "text/x-python",
   "name": "python",
   "nbconvert_exporter": "python",
   "pygments_lexer": "ipython3",
   "version": "3.9.7"
  }
 },
 "nbformat": 4,
 "nbformat_minor": 5
}
