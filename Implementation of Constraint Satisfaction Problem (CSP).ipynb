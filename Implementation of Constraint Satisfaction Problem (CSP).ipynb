{
  "metadata": {
    "language_info": {
      "codemirror_mode": {
        "name": "python",
        "version": 3
      },
      "file_extension": ".py",
      "mimetype": "text/x-python",
      "name": "python",
      "nbconvert_exporter": "python",
      "pygments_lexer": "ipython3",
      "version": "3.8"
    },
    "kernelspec": {
      "name": "python",
      "display_name": "Python (Pyodide)",
      "language": "python"
    }
  },
  "nbformat_minor": 4,
  "nbformat": 4,
  "cells": [
    {
      "cell_type": "code",
      "source": "def solutions():\n    # letters = ('s', 'e', 'n', 'd', 'm', 'o', 'r', 'y')\n    all_solutions = list()\n    for s in range(9, -1, -1):\n        for e in range(9, -1, -1):\n            for n in range(9, -1, -1):\n                for d in range(9, -1, -1):\n                    for m in range(9, 0, -1):\n                        for o in range(9, -1, -1):\n                            for r in range(9, -1, -1):\n                                for y in range(9, -1, -1):\n                                    if len(set([s, e, n, d, m, o, r, y])) == 8:\n                                        send = 1000 * s + 100 * e + 10 * n + d\n                                        more = 1000 * m + 100 * o + 10 * r + e\n                                        money = 10000 * m + 1000 * o + 100 * n + 10 * e + y\n\n                                        if send + more == money:\n                                            all_solutions.append((send, more, money))\n    return all_solutions\n\nprint(solutions())",
      "metadata": {
        "trusted": true
      },
      "execution_count": 1,
      "outputs": [
        {
          "name": "stdout",
          "text": "[(9567, 1085, 10652)]\n",
          "output_type": "stream"
        }
      ]
    },
    {
      "cell_type": "code",
      "source": "import itertools\n\ndef get_value(word, substitution):\n    s = 0\n    factor = 1\n    for letter in reversed(word):\n        s += factor * substitution[letter]\n        factor *= 10\n    return s\n\ndef solve2(equation):\n    left, right = equation.lower().replace(' ', '').split('=')\n    left = left.split('+')\n    letters = set(right)\n    for word in left:\n        for letter in word:\n            letters.add(letter)\n    letters = list(letters)\n\n    digits = range(10)\n    for perm in itertools.permutations(digits, len(letters)):\n        sol = dict(zip(letters, perm))\n\n        if sum(get_value(word, sol) for word in left) == get_value(right, sol):\n            print(' + '.join(str(get_value(word, sol)) for word in left) + \" = {} (mapping: {})\".format(get_value(right, sol), sol))",
      "metadata": {
        "trusted": true
      },
      "execution_count": 2,
      "outputs": []
    },
    {
      "cell_type": "code",
      "source": "print('EAT + THAT = APPLE ')\nsolve2('POINT + ZERO = ENERGY ')",
      "metadata": {
        "trusted": true
      },
      "execution_count": 3,
      "outputs": [
        {
          "name": "stdout",
          "text": "EAT + THAT = APPLE \n42659 + 8072 = 50731 (mapping: {'y': 1, 'z': 8, 'p': 4, 'r': 7, 't': 9, 'i': 6, 'o': 2, 'n': 5, 'e': 0, 'g': 3})\n62479 + 8052 = 70531 (mapping: {'y': 1, 'z': 8, 'p': 6, 'r': 5, 't': 9, 'i': 4, 'o': 2, 'n': 7, 'e': 0, 'g': 3})\n98504 + 3168 = 101672 (mapping: {'y': 2, 'z': 3, 'p': 9, 'r': 6, 't': 4, 'i': 5, 'o': 8, 'n': 0, 'e': 1, 'g': 7})\n51762 + 9081 = 60843 (mapping: {'y': 3, 'z': 9, 'p': 5, 'r': 8, 't': 2, 'i': 7, 'o': 1, 'n': 6, 'e': 0, 'g': 4})\n71582 + 9061 = 80643 (mapping: {'y': 3, 'z': 9, 'p': 7, 'r': 6, 't': 2, 'i': 5, 'o': 1, 'n': 8, 'e': 0, 'g': 4})\n31745 + 9081 = 40826 (mapping: {'y': 6, 'z': 9, 'p': 3, 'r': 8, 't': 5, 'i': 7, 'o': 1, 'n': 4, 'e': 0, 'g': 2})\n71385 + 9041 = 80426 (mapping: {'y': 6, 'z': 9, 'p': 7, 'r': 4, 't': 5, 'i': 3, 'o': 1, 'n': 8, 'e': 0, 'g': 2})\n38549 + 2068 = 40617 (mapping: {'y': 7, 'z': 2, 'p': 3, 'r': 6, 't': 9, 'i': 5, 'o': 8, 'n': 4, 'e': 0, 'g': 1})\n58369 + 2048 = 60417 (mapping: {'y': 7, 'z': 2, 'p': 5, 'r': 4, 't': 9, 'i': 3, 'o': 8, 'n': 6, 'e': 0, 'g': 1})\n24735 + 6084 = 30819 (mapping: {'y': 9, 'z': 6, 'p': 2, 'r': 8, 't': 5, 'i': 7, 'o': 4, 'n': 3, 'e': 0, 'g': 1})\n74285 + 6034 = 80319 (mapping: {'y': 9, 'z': 6, 'p': 7, 'r': 3, 't': 5, 'i': 2, 'o': 4, 'n': 8, 'e': 0, 'g': 1})\n",
          "output_type": "stream"
        }
      ]
    },
    {
      "cell_type": "code",
      "source": "",
      "metadata": {},
      "execution_count": null,
      "outputs": []
    }
  ]
}